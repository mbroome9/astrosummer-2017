{
  "nbformat": 4,
  "nbformat_minor": 0,
  "metadata": {
    "colab": {
      "name": "Maxwellian.ipynb",
      "provenance": [],
      "collapsed_sections": [],
      "include_colab_link": true
    },
    "kernelspec": {
      "name": "python3",
      "display_name": "Python 3"
    }
  },
  "cells": [
    {
      "cell_type": "markdown",
      "metadata": {
        "id": "view-in-github",
        "colab_type": "text"
      },
      "source": [
        "<a href=\"https://colab.research.google.com/github/mbroome9/astrosummer-2017/blob/master/Maxwellian.ipynb\" target=\"_parent\"><img src=\"https://colab.research.google.com/assets/colab-badge.svg\" alt=\"Open In Colab\"/></a>"
      ]
    },
    {
      "cell_type": "markdown",
      "metadata": {
        "id": "e_tO9u4c4dqy"
      },
      "source": [
        "# Maxwellian Velocity Distribution"
      ]
    },
    {
      "cell_type": "markdown",
      "metadata": {
        "id": "CZJFaN8SW1HU"
      },
      "source": [
        "A collection of particles that have been \"thermalized\" by collisions have a Maxwellian velocity distribution.  Their distribution of speeds (in a 3D gas) is given by:\n",
        "\n",
        "$f(v)dv = \\left(\\frac{m}{2\\pi kT}\\right)^{3/2}4\\pi v^2 e^\\frac{-mv^2}{2kT} dv$\n",
        "\n",
        "where $v$ is the particle speed (magnitude of the velocity), $m$ is the mass of an individual particle, $T$ is the gas temperature, and $k$ is the Boltzmann constant.  The function $f(v)$ is a distribution function, meaning that\n",
        "\n",
        "$\\int_{-\\infty}^\\infty f(v)dv = 1$"
      ]
    },
    {
      "cell_type": "markdown",
      "metadata": {
        "id": "dpPctkhYYhhq"
      },
      "source": [
        "The purpose of this notebook is to explore the meaning of the \"average\" velocity of a gas molecule in a thermal distribution."
      ]
    },
    {
      "cell_type": "markdown",
      "metadata": {
        "id": "5TOhJPDGaWZZ"
      },
      "source": [
        "**Add your changes below where you see instructions in the text cells** (everything else should be all set), **then run the code** (for example by pressing Shift-Enter in each cell)"
      ]
    },
    {
      "cell_type": "code",
      "metadata": {
        "id": "bqZCt-R74bd5"
      },
      "source": [
        "# import packages\n",
        "import numpy as np\n",
        "import matplotlib.pyplot as plt"
      ],
      "execution_count": null,
      "outputs": []
    },
    {
      "cell_type": "code",
      "metadata": {
        "id": "iWALxo0ann-j"
      },
      "source": [
        "# set constants in cgs units (astronomers use cgs)\n",
        "k = 1.380658e-16\t# erg/K ; Boltzmann constant\n",
        "mH = 1.6733e-24  # g ; mass of a hydrogen atom"
      ],
      "execution_count": null,
      "outputs": []
    },
    {
      "cell_type": "code",
      "metadata": {
        "id": "msSD8XYteRN3"
      },
      "source": [
        "m = mH # we will consider a gas of hydrogen atoms"
      ],
      "execution_count": null,
      "outputs": []
    },
    {
      "cell_type": "markdown",
      "metadata": {
        "id": "IkIMGHHPdeZU"
      },
      "source": [
        "Pick a temperature between 10 and 1000 Kelvin"
      ]
    },
    {
      "cell_type": "code",
      "metadata": {
        "id": "UPyVuy8gZ-NN"
      },
      "source": [
        "T =  # K ; temperature in Kelvin"
      ],
      "execution_count": null,
      "outputs": []
    },
    {
      "cell_type": "code",
      "metadata": {
        "id": "Hi46Yr8ObWj2"
      },
      "source": [
        "# make an array to hold the possible velocities\n",
        "v = np.linspace(1e4,1e6, num=1000)"
      ],
      "execution_count": null,
      "outputs": []
    },
    {
      "cell_type": "code",
      "metadata": {
        "id": "8OO8_hYMaSgg"
      },
      "source": [
        "# the distribution function\n",
        "fv = (m/(2.0*np.pi*k*T))**(3./2.)*4.0*np.pi*v**2*np.exp(-m*v**2/(2.0*k*T))"
      ],
      "execution_count": null,
      "outputs": []
    },
    {
      "cell_type": "code",
      "metadata": {
        "id": "afEKGj70miRO"
      },
      "source": [
        "# verify that the distribution function integrates to one\n",
        "print(np.trapz(fv, v)) # numerical integration of f(v) over all v in the array"
      ],
      "execution_count": null,
      "outputs": []
    },
    {
      "cell_type": "code",
      "metadata": {
        "id": "CdsHRaItcLcC"
      },
      "source": [
        "# plot the velocity distribution function (you don't need to make your plots look fancy)\n",
        "plt.plot(v, fv) "
      ],
      "execution_count": null,
      "outputs": []
    },
    {
      "cell_type": "code",
      "metadata": {
        "id": "bye-D_9dlHDb"
      },
      "source": [
        "# plot once more making it look a bit nicer\n",
        "%matplotlib inline\n",
        "fig, ax = plt.subplots(figsize=(8, 4),dpi=80) # makes the figure display larger\n",
        "# We can convert the velocity from cm/s to km/s by dividing by 1e5 to make the\n",
        "# axis numbers look nicer, but then we should multiply f(v) by 1e5 to make the\n",
        "# plotted integral sum to one.  Please beware of unit conversions.  The safest \n",
        "# bet is to stick with cgs for all calculations and then make any adjustments\n",
        "# you want only at the plotting stage.\n",
        "plt.plot(v/1e5, fv*1e5, 'b', linewidth=2)  \n",
        "plt.xlabel('velocity (km/s)', size=18)\n",
        "plt.ylabel('f(v)', size=18)\n",
        "plt.xticks(size=14)\n",
        "plt.yticks(size=14)\n",
        "plt.show()"
      ],
      "execution_count": null,
      "outputs": []
    },
    {
      "cell_type": "markdown",
      "metadata": {
        "id": "fKh6c_q7eEbB"
      },
      "source": [
        "Calculate the most likely velocity magnitude (using the expression from the notes)"
      ]
    },
    {
      "cell_type": "code",
      "metadata": {
        "id": "txvzmK3tcPCK"
      },
      "source": [
        "v_p =  # most probable speed"
      ],
      "execution_count": null,
      "outputs": []
    },
    {
      "cell_type": "code",
      "metadata": {
        "id": "YTnhwfVEfi5m"
      },
      "source": [
        "# if you've done this correctly, your most probable speed should \n",
        "# line up with the peak of the plot\n",
        "%matplotlib inline\n",
        "fig, ax = plt.subplots(figsize=(8, 4),dpi=80) \n",
        "plt.plot(v/1e5, fv*1e5, 'b', linewidth=2)  \n",
        "\n",
        "plt.vlines(v_p/1e5, 0, np.max(fv*1e5), colors='k') # this adds the vertical line\n",
        "\n",
        "plt.xlabel('velocity (km/s)', size=18)\n",
        "plt.ylabel('f(v)', size=18)\n",
        "plt.xticks(size=14)\n",
        "plt.yticks(size=14)\n",
        "plt.show()"
      ],
      "execution_count": null,
      "outputs": []
    },
    {
      "cell_type": "markdown",
      "metadata": {
        "id": "LCBSn8s6eg_s"
      },
      "source": [
        "Calculate the mean speed (using the expression from the notes)"
      ]
    },
    {
      "cell_type": "code",
      "metadata": {
        "id": "2SYX4aVYd23_"
      },
      "source": [
        "v_m =  # mean speed"
      ],
      "execution_count": null,
      "outputs": []
    },
    {
      "cell_type": "code",
      "metadata": {
        "id": "9PEu_K2Cghah"
      },
      "source": [
        "# If you've done this correctly, your answer should match the mean\n",
        "# calculated numerically here:\n",
        "print('Mean velocity (cm/s):')\n",
        "print(np.trapz(fv*v, v)) # numerical integration of v*f(v) over all v in the array\n",
        "print(v_m)"
      ],
      "execution_count": null,
      "outputs": []
    },
    {
      "cell_type": "markdown",
      "metadata": {
        "id": "rG6c-eO-e9XV"
      },
      "source": [
        "Calculate the RMS speed (using the expression from the notes)"
      ]
    },
    {
      "cell_type": "code",
      "metadata": {
        "id": "xkJMgVHIe5I5"
      },
      "source": [
        "v_rms =  # RMS speed"
      ],
      "execution_count": null,
      "outputs": []
    },
    {
      "cell_type": "code",
      "metadata": {
        "id": "6aX4I8JWhqK1"
      },
      "source": [
        "# If you've done this correctly, your answer should match the RMS\n",
        "# calculated numerically here:\n",
        "print('RMS velocity (cm/s):')\n",
        "print(np.sqrt(np.trapz(fv*v**2, v))) # square root of the numerical integration of v^2*f(v) over all v in the array\n",
        "print(v_rms)"
      ],
      "execution_count": null,
      "outputs": []
    },
    {
      "cell_type": "markdown",
      "metadata": {
        "id": "jogpprlDfJ_A"
      },
      "source": [
        "Calculate the isothermal sound speed (using the expression from the notes)"
      ]
    },
    {
      "cell_type": "code",
      "metadata": {
        "id": "ctbEPbXwfOg_"
      },
      "source": [
        "c_s =  # isothermal sound speed"
      ],
      "execution_count": null,
      "outputs": []
    },
    {
      "cell_type": "code",
      "metadata": {
        "id": "gEoqMCmBofVN"
      },
      "source": [
        "# If you've done this correctly, these should match:\n",
        "print('Isothermal sound speed (cm/s):')\n",
        "print(v_rms/np.sqrt(3.0))\n",
        "print(c_s)"
      ],
      "execution_count": null,
      "outputs": []
    },
    {
      "cell_type": "code",
      "metadata": {
        "id": "o9UGOIcifVTk"
      },
      "source": [
        "# Now overplot all of these velocity scales on the distribution function\n",
        "%matplotlib inline\n",
        "fig, ax = plt.subplots(figsize=(8, 4),dpi=80) \n",
        "\n",
        "plt.plot(v/1e5,fv*1e5, 'b', linewidth=2)\n",
        "\n",
        "plt.vlines(v_p/1e5, 0, np.max(fv*1e5), colors='k', linestyles='solid', linewidth=2, label='most probable')\n",
        "plt.vlines(v_m/1e5, 0, np.max(fv*1e5), colors='g', linestyles='dashed', linewidth=2, label='mean')\n",
        "plt.vlines(v_rms/1e5, 0, np.max(fv*1e5), colors='r', linestyles='dashdot', linewidth=2, label='RMS')\n",
        "plt.vlines(c_s/1e5, 0, np.max(fv*1e5), colors='m', linestyles='dotted', linewidth=2, label='sound speed')\n",
        "plt.legend()\n",
        "\n",
        "plt.xlabel('velocity (km/s)', size=18)\n",
        "plt.ylabel('f(v)', size=18)\n",
        "plt.xticks(size=14)\n",
        "plt.yticks(size=14)\n",
        "plt.show()"
      ],
      "execution_count": null,
      "outputs": []
    },
    {
      "cell_type": "markdown",
      "metadata": {
        "id": "uCYXSqyQrrqj"
      },
      "source": [
        "They velocities above should be different, but they should be a similar order-of-magnitude."
      ]
    },
    {
      "cell_type": "markdown",
      "metadata": {
        "id": "hfeuovgpgRkI"
      },
      "source": [
        "Now go back and try it with another temperature! (Your turned-in notebook only needs to have one temperature tried.)"
      ]
    }
  ]
}